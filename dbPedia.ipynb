{
 "cells": [
  {
   "cell_type": "markdown",
   "metadata": {},
   "source": [
    "#### Name : Download the dbpedia data into a Azure Blob\n",
    "#### Author : spaturu\n",
    "#### Date :  07/31/2017"
   ]
  },
  {
   "cell_type": "code",
   "execution_count": 1,
   "metadata": {
    "collapsed": false
   },
   "outputs": [],
   "source": [
    "from azure.storage.blob import BlockBlobService\n",
    "from azure.storage.blob import ContentSettings\n",
    "from azure.storage.blob import PublicAccess\n",
    "import wget\n",
    "import requests\n",
    "from os import path"
   ]
  },
  {
   "cell_type": "code",
   "execution_count": 2,
   "metadata": {
    "collapsed": false
   },
   "outputs": [
    {
     "name": "stdout",
     "output_type": "stream",
     "text": [
      "Enter UserName for Azure :randomtrees\n",
      "Enter Key for Azure :wvNLlB2cSHhB0OFPRhIQDv+1QBJ1CnwFt+AGfQnL8rTyKTCG90t1Z+aCepe25aol6CKneJYgvHJl5gMtHON7TQ==;EndpointSuffix=core.windows.net\n",
      "Enter the Container :dbpedia\n"
     ]
    }
   ],
   "source": [
    "account_name = str(input('Enter UserName for Azure :'))\n",
    "account_key  = str(input('Enter Key for Azure :'))\n",
    "container    = str(input('Enter the Container :'))"
   ]
  },
  {
   "cell_type": "code",
   "execution_count": 3,
   "metadata": {
    "collapsed": false
   },
   "outputs": [],
   "source": [
    "try:\n",
    "    block_blob_service = BlockBlobService(account_name = account_name,account_key  = account_key)\n",
    "except Exception as e:\n",
    "            print('Please make sure the account name and key are correct.', e)"
   ]
  },
  {
   "cell_type": "code",
   "execution_count": 4,
   "metadata": {
    "collapsed": false
   },
   "outputs": [],
   "source": [
    "if container in block_blob_service.list_containers():\n",
    "    pass\n",
    "else:\n",
    "    block_blob_service.create_container(container,public_access=PublicAccess.Container) "
   ]
  },
  {
   "cell_type": "code",
   "execution_count": 5,
   "metadata": {
    "collapsed": false
   },
   "outputs": [],
   "source": [
    "urls = {'wikipedia' :['https://dumps.wikimedia.org/enwiki/20170620/enwiki-20170620-pages-articles-multistream.xml.bz2',\n",
    "            'https://dumps.wikimedia.org/enwiki/20170620/enwiki-20170620-pages-articles-multistream-index.txt.bz2',\n",
    "            'https://creativecommons.org/licenses/by-sa/3.0/legalcode',\n",
    "            'http://www.gnu.org/copyleft/fdl.html'],\n",
    "        'ontology' :['http://downloads.dbpedia.org/2016-10/dbpedia_2016-10.owl',\n",
    "           'http://downloads.dbpedia.org/2016-10/dbpedia_2016-10.nt'],\n",
    "        'datasets' :['http://downloads.dbpedia.org/2016-10/core-i18n/en/'],\n",
    "        'nlp' :['http://model.dbpedia-spotlight.org/latest_data/en.tar.gz'],\n",
    "        'dataid':['http://downloads.dbpedia.org/2016-10/2016-10_dataid_catalog.json',\n",
    "         'http://downloads.dbpedia.org/2016-10/2016-10_dataid_catalog.ttl']}"
   ]
  },
  {
   "cell_type": "code",
   "execution_count": 6,
   "metadata": {
    "collapsed": false
   },
   "outputs": [
    {
     "name": "stdout",
     "output_type": "stream",
     "text": [
      "wikipedia\n",
      "https://dumps.wikimedia.org/enwiki/20170620/enwiki-20170620-pages-articles-multistream.xml.bz2\n",
      "https://dumps.wikimedia.org/enwiki/20170620/enwiki-20170620-pages-articles-multistream-index.txt.bz2\n",
      "https://creativecommons.org/licenses/by-sa/3.0/legalcode\n",
      "http://www.gnu.org/copyleft/fdl.html\n",
      "ontology\n",
      "http://downloads.dbpedia.org/2016-10/dbpedia_2016-10.owl\n",
      "http://downloads.dbpedia.org/2016-10/dbpedia_2016-10.nt\n",
      "datasets\n",
      "http://downloads.dbpedia.org/2016-10/core-i18n/en/\n",
      "nlp\n",
      "http://model.dbpedia-spotlight.org/latest_data/\n",
      "dataid\n",
      "http://downloads.dbpedia.org/2016-10/2016-10_dataid_catalog.json\n",
      "http://downloads.dbpedia.org/2016-10/2016-10_dataid_catalog.ttl\n"
     ]
    }
   ],
   "source": [
    "for blob in urls:\n",
    "    print(blob)\n",
    "    for url in urls[blob]:\n",
    "        print(url)\n",
    "#         block_blob_service.create_blob_from_path(path.join(container,blob),\n",
    "#                               wget.download(str(url)),\n",
    "#                               url.split(\"/\")[-1] ,\n",
    "#                               content_settings=ContentSettings(content_type=\"OWL File/owl\"))\n",
    "#         print('uploading file to'+blob+'in a'+container)"
   ]
  }
 ],
 "metadata": {
  "kernelspec": {
   "display_name": "Python 3",
   "language": "python",
   "name": "python3"
  },
  "language_info": {
   "codemirror_mode": {
    "name": "ipython",
    "version": 3
   },
   "file_extension": ".py",
   "mimetype": "text/x-python",
   "name": "python",
   "nbconvert_exporter": "python",
   "pygments_lexer": "ipython3",
   "version": "3.6.0"
  }
 },
 "nbformat": 4,
 "nbformat_minor": 2
}
